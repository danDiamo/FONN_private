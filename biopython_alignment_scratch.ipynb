{
 "cells": [
  {
   "cell_type": "code",
   "execution_count": 2,
   "metadata": {
    "collapsed": true,
    "pycharm": {
     "name": "#%%\n"
    }
   },
   "outputs": [
    {
     "name": "stderr",
     "output_type": "stream",
     "text": [
      "/Users/dannydiamond/NUIG/Polifonia/repo/FONN_private/venv/lib/python3.10/site-packages/Bio/pairwise2.py:278: BiopythonDeprecationWarning: Bio.pairwise2 has been deprecated, and we intend to remove it in a future release of Biopython. As an alternative, please consider using Bio.Align.PairwiseAligner as a replacement, and contact the Biopython developers if you still need the Bio.pairwise2 module.\n",
      "  warnings.warn(\n"
     ]
    }
   ],
   "source": [
    "from Bio.Align import PairwiseAligner\n",
    "from Bio import pairwise2"
   ]
  },
  {
   "cell_type": "code",
   "execution_count": 3,
   "outputs": [],
   "source": [
    "seq1 = '137746542176506770754254367767452531'\n",
    "seq2 = '15376545674833574367547536735245767114567151'\n"
   ],
   "metadata": {
    "collapsed": false,
    "pycharm": {
     "name": "#%%\n"
    }
   }
  },
  {
   "cell_type": "code",
   "execution_count": 4,
   "outputs": [
    {
     "name": "stdout",
     "output_type": "stream",
     "text": [
      "10\n"
     ]
    }
   ],
   "source": [
    "# By customizing the pentaly scores, even in the 'off-the-shelf' implementation, we output much fewer alignments,\n",
    "# but hopefully this produces a more relevant / targeted set of patterns.\n",
    "# This is only running on a random pair of test strings which I entered by had.\n",
    "# Will try today with scale degree data.\n",
    "\n",
    "from Bio.Align import PairwiseAligner\n",
    "aligner = PairwiseAligner()\n",
    "aligner.match_score = 2\n",
    "aligner.mismatch_score = -2\n",
    "aligner.open_gap_score = -2\n",
    "aligner.extend_gap_score = -1\n",
    "aligner.target_end_gap_score = 0\n",
    "aligner.query_end_gap_score = 0\n",
    "alignments = aligner.align(seq1, seq2)\n",
    "print(len(alignments))"
   ],
   "metadata": {
    "collapsed": false,
    "pycharm": {
     "name": "#%%\n"
    }
   }
  },
  {
   "cell_type": "code",
   "execution_count": 5,
   "outputs": [
    {
     "name": "stdout",
     "output_type": "stream",
     "text": [
      "target            0 1-377465421765067-----7--0754254367-----767--45--2531 36\n",
      "                  0 |-||--|||----|-||-----|--.|||.|-|||-----|||--||--.|-| 53\n",
      "query             0 1537--654----5-6748335743675475-3673524576711456715-1 44\n",
      " 5.0\n",
      "target            0 1-377465421765067-----70--754254367-----767--45--2531 36\n",
      "                  0 |-||--|||----|-||-----|.--|||.|-|||-----|||--||--.|-| 53\n",
      "query             0 1537--654----5-6748335743675475-3673524576711456715-1 44\n",
      " 5.0\n",
      "target            0 1-377465421765067-----7--0754254367-----767--452--531 36\n",
      "                  0 |-||--|||----|-||-----|--.|||.|-|||-----|||--||.--|-| 53\n",
      "query             0 1537--654----5-6748335743675475-3673524576711456715-1 44\n",
      " 5.0\n",
      "target            0 1-377465421765067-----70--754254367-----767--452--531 36\n",
      "                  0 |-||--|||----|-||-----|.--|||.|-|||-----|||--||.--|-| 53\n",
      "query             0 1537--654----5-6748335743675475-3673524576711456715-1 44\n",
      " 5.0\n",
      "target            0 1-37746542176506770754--25-4367--7--67452-5--31-------- 36\n",
      "                  0 |-||--|||----|-||----|--.|-||||--|--||.||-|--.|-------- 55\n",
      "query             0 1537--654----5-67----4833574367547536735245767114567151 44\n",
      " 5.0\n",
      "target            0 1-377465421765067707542--5-4367--7--67452-5--31-------- 36\n",
      "                  0 |-||--|||----|-||----|.--|-||||--|--||.||-|--.|-------- 55\n",
      "query             0 1537--654----5-67----4833574367547536735245767114567151 44\n",
      " 5.0\n",
      "target            0 1-37746542176506770754--25-4367--7--67452-53--1-------- 36\n",
      "                  0 |-||--|||----|-||----|--.|-||||--|--||.||-|.--|-------- 55\n",
      "query             0 1537--654----5-67----4833574367547536735245767114567151 44\n",
      " 5.0\n",
      "target            0 1-377465421765067707542--5-4367--7--67452-53--1-------- 36\n",
      "                  0 |-||--|||----|-||----|.--|-||||--|--||.||-|.--|-------- 55\n",
      "query             0 1537--654----5-67----4833574367547536735245767114567151 44\n",
      " 5.0\n",
      "target            0 1-37746542176506770754--25-4367--7--67452-531------------ 36\n",
      "                  0 |-||--|||----|-||----|--.|-||||--|--||.||-|-------------- 57\n",
      "query             0 1537--654----5-67----4833574367547536735245--767114567151 44\n",
      " 5.0\n",
      "target            0 1-377465421765067707542--5-4367--7--67452-531------------ 36\n",
      "                  0 |-||--|||----|-||----|.--|-||||--|--||.||-|-------------- 57\n",
      "query             0 1537--654----5-67----4833574367547536735245--767114567151 44\n",
      " 5.0\n"
     ]
    }
   ],
   "source": [
    "for alignment in alignments:\n",
    "    print(alignment, alignment.score)"
   ],
   "metadata": {
    "collapsed": false,
    "pycharm": {
     "name": "#%%\n"
    }
   }
  },
  {
   "cell_type": "code",
   "execution_count": null,
   "outputs": [],
   "source": [
    "# Peter's thesis has a lot on this but he didn't dig into the patterns.\n",
    "# He optimised the algorithm in many interesting ways for melodic similarity [custom weightings in different musical dimensions], rather than pattern-similarity\n"
   ],
   "metadata": {
    "collapsed": false,
    "pycharm": {
     "name": "#%%\n"
    }
   }
  }
 ],
 "metadata": {
  "kernelspec": {
   "display_name": "Python 3",
   "language": "python",
   "name": "python3"
  },
  "language_info": {
   "codemirror_mode": {
    "name": "ipython",
    "version": 2
   },
   "file_extension": ".py",
   "mimetype": "text/x-python",
   "name": "python",
   "nbconvert_exporter": "python",
   "pygments_lexer": "ipython2",
   "version": "2.7.6"
  }
 },
 "nbformat": 4,
 "nbformat_minor": 0
}